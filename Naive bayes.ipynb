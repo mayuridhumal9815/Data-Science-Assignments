{
 "cells": [
  {
   "cell_type": "code",
   "execution_count": 1,
   "id": "f0a3ddfd",
   "metadata": {},
   "outputs": [],
   "source": [
    "import pandas as pd\n",
    "import numpy as np\n",
    "from sklearn.naive_bayes import GaussianNB\n",
    "from sklearn.naive_bayes import MultinomialNB\n",
    "from sklearn.model_selection import train_test_split\n",
    "from sklearn.metrics import confusion_matrix\n",
    "salary_train = pd.read_csv(\"SalaryData_Train.csv\")\n",
    "salary_test = pd.read_csv(\"SalaryData_Test.csv\")\n",
    "from sklearn import preprocessing\n",
    "string_columns = [\"workclass\",\"education\",\"maritalstatus\",\"occupation\",\"relationship\",\"race\",\"native\",\"sex\"]\n",
    "for i in string_columns:\n",
    "    number = preprocessing.LabelEncoder()\n",
    "    salary_train[i] = number.fit_transform(salary_train[i])\n",
    "    salary_test[i] = number.fit_transform(salary_test[i])\n",
    "\n",
    "colnames = list(salary_train)\n",
    "trainX = salary_train[colnames[0:13]]\n",
    "trainY = salary_train[colnames[13]]\n",
    "testx = salary_test[colnames[0:13]]\n",
    "testy = salary_test[colnames[13]]\n",
    "\n",
    "\n",
    "\n",
    "\n",
    "\n",
    "\n"
   ]
  },
  {
   "cell_type": "code",
   "execution_count": 2,
   "id": "7b0d1ad4",
   "metadata": {},
   "outputs": [],
   "source": [
    "model_gnb = GaussianNB()\n",
    "model_gnb.fit(trainX,trainY)\n",
    "pred_train_gnb= model_gnb.predict(testx)"
   ]
  },
  {
   "cell_type": "code",
   "execution_count": 3,
   "id": "452dfb1b",
   "metadata": {},
   "outputs": [
    {
     "data": {
      "text/plain": [
       "array([[10759,  2491],\n",
       "       [  601,  1209]], dtype=int64)"
      ]
     },
     "execution_count": 3,
     "metadata": {},
     "output_type": "execute_result"
    }
   ],
   "source": [
    "confusion_matrix(pred_train_gnb,testy)"
   ]
  },
  {
   "cell_type": "code",
   "execution_count": 4,
   "id": "ad78d890",
   "metadata": {},
   "outputs": [
    {
     "name": "stdout",
     "output_type": "stream",
     "text": [
      "accuracy 0.7946879150066402\n"
     ]
    }
   ],
   "source": [
    "\n",
    "print(\"accuracy\",(10759+1209)/(10759+2491+601+1209))"
   ]
  },
  {
   "cell_type": "code",
   "execution_count": 5,
   "id": "5a17fa77",
   "metadata": {},
   "outputs": [],
   "source": [
    "model_mnb = MultinomialNB()\n",
    "model_mnb.fit(trainX,trainY)\n",
    "pred_mnb = model_mnb.predict(testx)"
   ]
  },
  {
   "cell_type": "code",
   "execution_count": 6,
   "id": "c0853378",
   "metadata": {},
   "outputs": [
    {
     "data": {
      "text/plain": [
       "array([[10891,  2920],\n",
       "       [  469,   780]], dtype=int64)"
      ]
     },
     "execution_count": 6,
     "metadata": {},
     "output_type": "execute_result"
    }
   ],
   "source": [
    "confusion_matrix(pred_mnb,testy)"
   ]
  },
  {
   "cell_type": "code",
   "execution_count": 7,
   "id": "659595f5",
   "metadata": {},
   "outputs": [
    {
     "name": "stdout",
     "output_type": "stream",
     "text": [
      "accuracy= 0.7749667994687915\n"
     ]
    }
   ],
   "source": [
    "print(\"accuracy=\",(10891+780)/(10891+2920+469+780))\n"
   ]
  },
  {
   "cell_type": "code",
   "execution_count": null,
   "id": "6aed23e3",
   "metadata": {},
   "outputs": [],
   "source": []
  }
 ],
 "metadata": {
  "kernelspec": {
   "display_name": "Python 3",
   "language": "python",
   "name": "python3"
  },
  "language_info": {
   "codemirror_mode": {
    "name": "ipython",
    "version": 3
   },
   "file_extension": ".py",
   "mimetype": "text/x-python",
   "name": "python",
   "nbconvert_exporter": "python",
   "pygments_lexer": "ipython3",
   "version": "3.8.8"
  }
 },
 "nbformat": 4,
 "nbformat_minor": 5
}